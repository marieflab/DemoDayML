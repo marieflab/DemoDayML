{
 "cells": [
  {
   "cell_type": "markdown",
   "metadata": {},
   "source": [
    "# Facial Expression Recognition\n",
    "Muhammad Arief - 152236035100-766\n"
   ]
  },
  {
   "cell_type": "markdown",
   "metadata": {
    "id": "5R_rJ0WgPTGI"
   },
   "source": [
    "# 1 Data Analysis (DA)"
   ]
  },
  {
   "cell_type": "markdown",
   "metadata": {
    "id": "aDETVpLbPTGO"
   },
   "source": [
    "## 1.1. Data Info"
   ]
  },
  {
   "cell_type": "code",
   "execution_count": 1,
   "metadata": {},
   "outputs": [],
   "source": [
    "from pathlib import Path\n",
    "from PIL import Image"
   ]
  },
  {
   "cell_type": "code",
   "execution_count": 2,
   "metadata": {
    "colab": {
     "base_uri": "https://localhost:8080/"
    },
    "id": "5K2oq8MmPTGO",
    "outputId": "176cea09-6aa6-43c0-a32c-563f6a2ecb1e"
   },
   "outputs": [
    {
     "name": "stdout",
     "output_type": "stream",
     "text": [
      "There are 28709 training images in 7 distinct categories\n",
      "Image Dimensions : 48 x 48\n",
      "Total image perclass:\n",
      "Label sad       : 4830\n",
      "Label surprise  : 3171\n",
      "Label neutral   : 4965\n",
      "Label fear      : 4097\n",
      "Label happy     : 7215\n",
      "Label disgust   : 436\n",
      "Label angry     : 3995\n"
     ]
    }
   ],
   "source": [
    "ROOT_DATA_TRAIN = 'FERdata/train'\n",
    "data_path_train = Path(ROOT_DATA_TRAIN)\n",
    "import random\n",
    "\n",
    "# get Class Name\n",
    "class_names = [d.name for d in data_path_train.iterdir()]\n",
    "\n",
    "# get number class\n",
    "num_class = len(class_names)\n",
    "\n",
    "# get all image_file\n",
    "image_files = list(data_path_train.rglob('*.jpg'))\n",
    "\n",
    "# get all image perclass\n",
    "dict_file = {}\n",
    "for c in class_names:\n",
    "    dict_file[c] = list(data_path_train.rglob('{}/*.jpg'.format(c)))\n",
    "\n",
    "# get image width and height\n",
    "image_width, image_height = Image.open(image_files[5]).size\n",
    "\n",
    "# print all\n",
    "print(f'There are {len(image_files)} training images in {len(class_names)} distinct categories')\n",
    "print(f'Image Dimensions : {image_width} x {image_height}')\n",
    "print('Total image perclass:')\n",
    "for c in class_names:\n",
    "    print(\"Label {0:9} : {1}\".format(c,len(dict_file[c])))"
   ]
  },
  {
   "cell_type": "code",
   "execution_count": 3,
   "metadata": {
    "colab": {
     "base_uri": "https://localhost:8080/"
    },
    "id": "E3WYnlxLU6Xi",
    "outputId": "218a0a79-abca-405d-c853-18bcde87d682"
   },
   "outputs": [
    {
     "name": "stdout",
     "output_type": "stream",
     "text": [
      "28709\n"
     ]
    }
   ],
   "source": [
    "print(len(image_files))"
   ]
  },
  {
   "cell_type": "code",
   "execution_count": 4,
   "metadata": {
    "colab": {
     "base_uri": "https://localhost:8080/"
    },
    "id": "Qz2LC_-AXBTv",
    "outputId": "71664133-2592-45e0-fb54-07e45c9f4941"
   },
   "outputs": [],
   "source": [
    "# ii = Image.open(image_files[0])\n",
    "# print()"
   ]
  },
  {
   "cell_type": "code",
   "execution_count": 5,
   "metadata": {},
   "outputs": [
    {
     "name": "stdout",
     "output_type": "stream",
     "text": [
      "There are 7178 validation images in 7 distinct categories\n",
      "Image Dimensions : 48 x 48\n",
      "Total image perclass:\n",
      "Label sad       : 1247\n",
      "Label surprise  : 831\n",
      "Label neutral   : 1233\n",
      "Label fear      : 1024\n",
      "Label happy     : 1774\n",
      "Label disgust   : 111\n",
      "Label angry     : 958\n"
     ]
    }
   ],
   "source": [
    "ROOT_DATA_VALIDATION = 'FERdata/validation'\n",
    "data_path_validation = Path(ROOT_DATA_VALIDATION)\n",
    "import random\n",
    "\n",
    "# get Class Name\n",
    "class_names_validation = [d.name for d in data_path_validation.iterdir()]\n",
    "\n",
    "# get number class\n",
    "num_class_validation = len(class_names_validation)\n",
    "\n",
    "# get all image_file\n",
    "image_files_validation = list(data_path_validation.rglob('*.jpg'))\n",
    "\n",
    "for i in range(len(image_files_validation)):\n",
    "  im_validation = Image.open(image_files_validation[i])\n",
    "  resz_validation = im_validation.resize((48,48))\n",
    "  resz_validation.save(image_files_validation[i])\n",
    "\n",
    "# get all image perclass\n",
    "dict_file_validation = {}\n",
    "for cval in class_names_validation:\n",
    "    dict_file_validation[cval] = list(data_path_validation.rglob('{}/*.jpg'.format(cval)))\n",
    "\n",
    "# get image width and height\n",
    "image_width_validation, image_height_validation = Image.open(image_files_validation[5]).size\n",
    "\n",
    "# print all\n",
    "print(f'There are {len(image_files_validation)} validation images in {len(class_names_validation)} distinct categories')\n",
    "print(f'Image Dimensions : {image_width_validation} x {image_height_validation}')\n",
    "print('Total image perclass:')\n",
    "for cval in class_names_validation:\n",
    "    print(\"Label {0:9} : {1}\".format(cval,len(dict_file_validation[cval])))"
   ]
  },
  {
   "cell_type": "code",
   "execution_count": 6,
   "metadata": {},
   "outputs": [
    {
     "name": "stdout",
     "output_type": "stream",
     "text": [
      "7178\n"
     ]
    }
   ],
   "source": [
    "print(len(image_files_validation))"
   ]
  },
  {
   "cell_type": "markdown",
   "metadata": {
    "id": "r8PQnyg8PTGT"
   },
   "source": [
    "## 1.2. Check Sample Image"
   ]
  },
  {
   "cell_type": "code",
   "execution_count": 7,
   "metadata": {
    "colab": {
     "base_uri": "https://localhost:8080/",
     "height": 585
    },
    "id": "evoELdeaPTGU",
    "outputId": "ec963b3b-5c5f-4eee-c718-8fac484129a4"
   },
   "outputs": [
    {
     "data": {
      "image/png": "[encoded data removed]",
      "text/plain": [
       "<Figure size 576x576 with 4 Axes>"
      ]
     },
     "metadata": {
      "needs_background": "light"
     },
     "output_type": "display_data"
    }
   ],
   "source": [
    "import numpy as np_train\n",
    "\n",
    "%matplotlib inline\n",
    "import matplotlib.pyplot as mp_train\n",
    "\n",
    "np_train.random.seed(551)\n",
    "\n",
    "mp_train.subplots(2,2,figsize=(8,8))\n",
    "for i, c in enumerate(class_names):\n",
    "    if i == 4:\n",
    "                break\n",
    "    else:\n",
    "        im = Image.open(dict_file[c][random.randint(0, len(dict_file[c]))])\n",
    "        arr = np_train.array(im)\n",
    "        mp_train.subplot(2,2,i+1)\n",
    "        mp_train.xlabel(c)\n",
    "        mp_train.imshow(arr,cmap='gray',vmin=0,vmax=255)\n",
    "mp_train.tight_layout()\n",
    "mp_train.show()"
   ]
  },
  {
   "cell_type": "code",
   "execution_count": 8,
   "metadata": {
    "scrolled": true
   },
   "outputs": [
    {
     "data": {
      "image/png": "[encoded data removed]",
      "text/plain": [
       "<Figure size 576x576 with 4 Axes>"
      ]
     },
     "metadata": {
      "needs_background": "light"
     },
     "output_type": "display_data"
    }
   ],
   "source": [
    "import numpy as np_validation\n",
    "\n",
    "%matplotlib inline\n",
    "import matplotlib.pyplot as mp_validation\n",
    "\n",
    "np_validation.random.seed(551)\n",
    "\n",
    "mp_validation.subplots(2,2,figsize=(8,8))\n",
    "for i_val, c_val in enumerate(class_names_validation):\n",
    "    if i_val == 4:\n",
    "                break\n",
    "    else:\n",
    "        im_validation = Image.open(dict_file_validation[c_val][random.randint(0, len(dict_file_validation[c_val]))])\n",
    "        arr_validation = np_validation.array(im_validation)\n",
    "        mp_validation.subplot(2,2,i_val+1)\n",
    "        mp_validation.xlabel(c_val)\n",
    "        mp_validation.imshow(arr_validation,cmap='gray',vmin=0,vmax=255)\n",
    "mp_validation.tight_layout()\n",
    "mp_validation.show()\n"
   ]
  },
  {
   "cell_type": "markdown",
   "metadata": {},
   "source": [
    "# 2 Data Preparation"
   ]
  },
  {
   "cell_type": "markdown",
   "metadata": {
    "id": "8zSrzBeFPTGZ"
   },
   "source": [
    "## 2.1. Convert to dataframe"
   ]
  },
  {
   "cell_type": "code",
   "execution_count": 9,
   "metadata": {
    "id": "_o-9DeIwPTGa"
   },
   "outputs": [],
   "source": [
    "import pandas as pd_train\n",
    "\n",
    "# Convert data to list\n",
    "list_data_train = []\n",
    "for k, v in dict_file.items():\n",
    "    for f in v:\n",
    "        _dict = {'filename': f, 'class_name': k}\n",
    "        list_data_train.append(_dict)\n",
    "\n",
    "# To pandas dataframe\n",
    "df_train = pd_train.DataFrame(list_data_train)"
   ]
  },
  {
   "cell_type": "code",
   "execution_count": 10,
   "metadata": {
    "colab": {
     "base_uri": "https://localhost:8080/",
     "height": 206
    },
    "id": "hS4_ZKfrPTGd",
    "outputId": "dc7a3493-a864-46d2-8dc4-4e3fa1197494"
   },
   "outputs": [
    {
     "data": {
      "text/html": [
       "<div>\n",
       "<style scoped>\n",
       "    .dataframe tbody tr th:only-of-type {\n",
       "        vertical-align: middle;\n",
       "    }\n",
       "\n",
       "    .dataframe tbody tr th {\n",
       "        vertical-align: top;\n",
       "    }\n",
       "\n",
       "    .dataframe thead th {\n",
       "        text-align: right;\n",
       "    }\n",
       "</style>\n",
       "<table border=\"1\" class=\"dataframe\">\n",
       "  <thead>\n",
       "    <tr style=\"text-align: right;\">\n",
       "      <th></th>\n",
       "      <th>filename</th>\n",
       "      <th>class_name</th>\n",
       "    </tr>\n",
       "  </thead>\n",
       "  <tbody>\n",
       "    <tr>\n",
       "      <th>26197</th>\n",
       "      <td>FERdata/train/angry/Training_40219937.jpg</td>\n",
       "      <td>angry</td>\n",
       "    </tr>\n",
       "    <tr>\n",
       "      <th>5693</th>\n",
       "      <td>FERdata/train/surprise/Training_59938779.jpg</td>\n",
       "      <td>surprise</td>\n",
       "    </tr>\n",
       "    <tr>\n",
       "      <th>19811</th>\n",
       "      <td>FERdata/train/happy/Training_11977629.jpg</td>\n",
       "      <td>happy</td>\n",
       "    </tr>\n",
       "    <tr>\n",
       "      <th>1227</th>\n",
       "      <td>FERdata/train/sad/Training_27470164.jpg</td>\n",
       "      <td>sad</td>\n",
       "    </tr>\n",
       "    <tr>\n",
       "      <th>18907</th>\n",
       "      <td>FERdata/train/happy/Training_76330499.jpg</td>\n",
       "      <td>happy</td>\n",
       "    </tr>\n",
       "    <tr>\n",
       "      <th>24810</th>\n",
       "      <td>FERdata/train/angry/Training_35906641.jpg</td>\n",
       "      <td>angry</td>\n",
       "    </tr>\n",
       "    <tr>\n",
       "      <th>12719</th>\n",
       "      <td>FERdata/train/neutral/Training_56098186.jpg</td>\n",
       "      <td>neutral</td>\n",
       "    </tr>\n",
       "  </tbody>\n",
       "</table>\n",
       "</div>"
      ],
      "text/plain": [
       "                                           filename class_name\n",
       "26197     FERdata/train/angry/Training_40219937.jpg      angry\n",
       "5693   FERdata/train/surprise/Training_59938779.jpg   surprise\n",
       "19811     FERdata/train/happy/Training_11977629.jpg      happy\n",
       "1227        FERdata/train/sad/Training_27470164.jpg        sad\n",
       "18907     FERdata/train/happy/Training_76330499.jpg      happy\n",
       "24810     FERdata/train/angry/Training_35906641.jpg      angry\n",
       "12719   FERdata/train/neutral/Training_56098186.jpg    neutral"
      ]
     },
     "execution_count": 10,
     "metadata": {},
     "output_type": "execute_result"
    }
   ],
   "source": [
    "df_train.sample(7)"
   ]
  },
  {
   "cell_type": "code",
   "execution_count": 11,
   "metadata": {},
   "outputs": [],
   "source": [
    "import pandas as pd_validation\n",
    "\n",
    "# Convert data to list\n",
    "list_data_validation = []\n",
    "for k, v in dict_file_validation.items():\n",
    "    for f in v:\n",
    "        _dict = {'filename': f, 'class_name': k}\n",
    "        list_data_validation.append(_dict)\n",
    "\n",
    "# To pandas dataframe\n",
    "df_validation = pd_validation.DataFrame(list_data_validation)"
   ]
  },
  {
   "cell_type": "code",
   "execution_count": 12,
   "metadata": {},
   "outputs": [
    {
     "data": {
      "text/html": [
       "<div>\n",
       "<style scoped>\n",
       "    .dataframe tbody tr th:only-of-type {\n",
       "        vertical-align: middle;\n",
       "    }\n",
       "\n",
       "    .dataframe tbody tr th {\n",
       "        vertical-align: top;\n",
       "    }\n",
       "\n",
       "    .dataframe thead th {\n",
       "        text-align: right;\n",
       "    }\n",
       "</style>\n",
       "<table border=\"1\" class=\"dataframe\">\n",
       "  <thead>\n",
       "    <tr style=\"text-align: right;\">\n",
       "      <th></th>\n",
       "      <th>filename</th>\n",
       "      <th>class_name</th>\n",
       "    </tr>\n",
       "  </thead>\n",
       "  <tbody>\n",
       "    <tr>\n",
       "      <th>1073</th>\n",
       "      <td>FERdata/validation/sad/PublicTest_54738171.jpg</td>\n",
       "      <td>sad</td>\n",
       "    </tr>\n",
       "    <tr>\n",
       "      <th>5476</th>\n",
       "      <td>FERdata/validation/happy/PrivateTest_87485263.jpg</td>\n",
       "      <td>happy</td>\n",
       "    </tr>\n",
       "    <tr>\n",
       "      <th>3475</th>\n",
       "      <td>FERdata/validation/fear/PrivateTest_25595121.jpg</td>\n",
       "      <td>fear</td>\n",
       "    </tr>\n",
       "    <tr>\n",
       "      <th>841</th>\n",
       "      <td>FERdata/validation/sad/PrivateTest_24655069.jpg</td>\n",
       "      <td>sad</td>\n",
       "    </tr>\n",
       "    <tr>\n",
       "      <th>6569</th>\n",
       "      <td>FERdata/validation/angry/PrivateTest_46067064.jpg</td>\n",
       "      <td>angry</td>\n",
       "    </tr>\n",
       "    <tr>\n",
       "      <th>5892</th>\n",
       "      <td>FERdata/validation/happy/PublicTest_17904919.jpg</td>\n",
       "      <td>happy</td>\n",
       "    </tr>\n",
       "    <tr>\n",
       "      <th>4869</th>\n",
       "      <td>FERdata/validation/happy/PublicTest_50055950.jpg</td>\n",
       "      <td>happy</td>\n",
       "    </tr>\n",
       "  </tbody>\n",
       "</table>\n",
       "</div>"
      ],
      "text/plain": [
       "                                               filename class_name\n",
       "1073     FERdata/validation/sad/PublicTest_54738171.jpg        sad\n",
       "5476  FERdata/validation/happy/PrivateTest_87485263.jpg      happy\n",
       "3475   FERdata/validation/fear/PrivateTest_25595121.jpg       fear\n",
       "841     FERdata/validation/sad/PrivateTest_24655069.jpg        sad\n",
       "6569  FERdata/validation/angry/PrivateTest_46067064.jpg      angry\n",
       "5892   FERdata/validation/happy/PublicTest_17904919.jpg      happy\n",
       "4869   FERdata/validation/happy/PublicTest_50055950.jpg      happy"
      ]
     },
     "execution_count": 12,
     "metadata": {},
     "output_type": "execute_result"
    }
   ],
   "source": [
    "df_validation.sample(7)"
   ]
  },
  {
   "cell_type": "markdown",
   "metadata": {},
   "source": [
    "## 2.2 Check Class Balance"
   ]
  },
  {
   "cell_type": "code",
   "execution_count": 13,
   "metadata": {},
   "outputs": [
    {
     "data": {
      "text/plain": [
       "class_name\n",
       "angry       3995\n",
       "disgust      436\n",
       "fear        4097\n",
       "happy       7215\n",
       "neutral     4965\n",
       "sad         4830\n",
       "surprise    3171\n",
       "dtype: int64"
      ]
     },
     "execution_count": 13,
     "metadata": {},
     "output_type": "execute_result"
    }
   ],
   "source": [
    "df_train.groupby('class_name').size()"
   ]
  },
  {
   "cell_type": "code",
   "execution_count": 14,
   "metadata": {},
   "outputs": [
    {
     "data": {
      "text/plain": [
       "class_name\n",
       "angry        958\n",
       "disgust      111\n",
       "fear        1024\n",
       "happy       1774\n",
       "neutral     1233\n",
       "sad         1247\n",
       "surprise     831\n",
       "dtype: int64"
      ]
     },
     "execution_count": 14,
     "metadata": {},
     "output_type": "execute_result"
    }
   ],
   "source": [
    "df_validation.groupby('class_name').size()"
   ]
  },
  {
   "cell_type": "markdown",
   "metadata": {},
   "source": [
    "## 2.3. Check mean, std, min and max from data training and validation"
   ]
  },
  {
   "cell_type": "code",
   "execution_count": 15,
   "metadata": {},
   "outputs": [],
   "source": [
    "from tqdm import tqdm\n",
    "from torchvision import transforms\n"
   ]
  },
  {
   "cell_type": "code",
   "execution_count": 16,
   "metadata": {},
   "outputs": [
    {
     "name": "stderr",
     "output_type": "stream",
     "text": [
      "100%|██████████| 28709/28709 [00:15<00:00, 1888.41it/s]\n"
     ]
    }
   ],
   "source": [
    "mean_list_train = []\n",
    "std_list_train = []\n",
    "max_list_train = []\n",
    "min_list_train = []\n",
    "toTensor = transforms.ToTensor()  # Convert from 0-255 to 0-1\n",
    "for i, row in tqdm(df_train.iterrows(), total=len(df_train)):\n",
    "    _im = Image.open(row['filename'])\n",
    "    _im = toTensor(_im)\n",
    "    mean_list_train.append(_im.mean())\n",
    "    std_list_train.append(_im.std())\n",
    "    max_list_train.append(_im.max())\n",
    "    min_list_train.append(_im.min())"
   ]
  },
  {
   "cell_type": "code",
   "execution_count": 17,
   "metadata": {},
   "outputs": [
    {
     "name": "stdout",
     "output_type": "stream",
     "text": [
      "mean train: 0.507707417011261, std train: 0.20897603034973145, min train: 0.0, max train: 1.0\n"
     ]
    }
   ],
   "source": [
    "avg_mean_train = np_train.array(mean_list_train).mean()\n",
    "avg_std_train = np_train.array(std_list_train).mean()\n",
    "min_data_train = np_train.array(min_list_train).min()\n",
    "max_data_train = np_train.array(max_list_train).max()\n",
    "print(f'mean train: {avg_mean_train}, std train: {avg_std_train}, min train: {min_data_train}, max train: {max_data_train}')"
   ]
  },
  {
   "cell_type": "code",
   "execution_count": 18,
   "metadata": {},
   "outputs": [
    {
     "name": "stderr",
     "output_type": "stream",
     "text": [
      "100%|██████████| 7178/7178 [00:03<00:00, 1884.42it/s]\n"
     ]
    }
   ],
   "source": [
    "mean_list_validation = []\n",
    "std_list_validation = []\n",
    "max_list_validation = []\n",
    "min_list_validation = []\n",
    "toTensor = transforms.ToTensor()  # Convert from 0-255 to 0-1\n",
    "for i, row in tqdm(df_validation.iterrows(), total=len(df_validation)):\n",
    "    _im = Image.open(row['filename'])\n",
    "    _im = toTensor(_im)\n",
    "    mean_list_validation.append(_im.mean())\n",
    "    std_list_validation.append(_im.std())\n",
    "    max_list_validation.append(_im.max())\n",
    "    min_list_validation.append(_im.min())"
   ]
  },
  {
   "cell_type": "code",
   "execution_count": 19,
   "metadata": {},
   "outputs": [
    {
     "name": "stdout",
     "output_type": "stream",
     "text": [
      "mean validation: 0.5059752464294434, std validation: 0.20948506891727448, min validation: 0.0, max validation: 1.0\n"
     ]
    }
   ],
   "source": [
    "avg_mean_validation = np_validation.array(mean_list_validation).mean()\n",
    "avg_std_validation = np_validation.array(std_list_validation).mean()\n",
    "min_data_validation = np_validation.array(min_list_validation).min()\n",
    "max_data_validation = np_validation.array(max_list_validation).max()\n",
    "print(f'mean validation: {avg_mean_validation}, std validation: {avg_std_validation}, min validation: {min_data_validation}, max validation: {max_data_validation}')"
   ]
  },
  {
   "cell_type": "markdown",
   "metadata": {},
   "source": [
    "# MODEL FER BARU\n"
   ]
  },
  {
   "cell_type": "code",
   "execution_count": 20,
   "metadata": {},
   "outputs": [
    {
     "name": "stdout",
     "output_type": "stream",
     "text": [
      "Found 28709 images belonging to 7 classes.\n",
      "Found 7178 images belonging to 7 classes.\n"
     ]
    }
   ],
   "source": [
    "from keras.preprocessing.image import ImageDataGenerator\n",
    "\n",
    "train_datagen = ImageDataGenerator(rescale=1./255,\n",
    "                                   zoom_range=0.3,\n",
    "                                   horizontal_flip=True)\n",
    "\n",
    "training_set = train_datagen.flow_from_directory(ROOT_DATA_TRAIN,\n",
    "                                                target_size=(48,48),\n",
    "                                                color_mode='grayscale',\n",
    "                                                class_mode='categorical')\n",
    "\n",
    "validation_datagen = ImageDataGenerator(rescale=1./255)\n",
    "validation_set = validation_datagen.flow_from_directory(ROOT_DATA_VALIDATION,\n",
    "                                                target_size=(48,48),\n",
    "                                                color_mode='grayscale',\n",
    "                                                class_mode='categorical')"
   ]
  },
  {
   "cell_type": "code",
   "execution_count": 21,
   "metadata": {},
   "outputs": [],
   "source": [
    "import tensorflow as tf\n",
    "import keras.models\n",
    "from keras import regularizers\n",
    "from keras.layers import Conv2D, Dense, BatchNormalization, Activation, Dropout, MaxPooling2D, Flatten\n",
    "from tensorflow.keras.optimizers import Adam, RMSprop, SGD\n"
   ]
  },
  {
   "cell_type": "code",
   "execution_count": 22,
   "metadata": {},
   "outputs": [],
   "source": [
    "def DemoDayModel(input_size, classes=7):\n",
    "    \n",
    "    model = tf.keras.models.Sequential()   \n",
    "\n",
    "    model.add(Conv2D(64, kernel_size=(5, 5), padding='same', activation='relu', input_shape =input_size))\n",
    "    model.add(Conv2D(64, kernel_size=(5, 5), activation='relu', padding='same'))\n",
    "    model.add(BatchNormalization())\n",
    "    model.add(MaxPooling2D(2, 2))\n",
    "    model.add(Dropout(0.25))\n",
    "\n",
    "    model.add(Conv2D(128, kernel_size=(5, 5), activation='relu', padding='same'))\n",
    "    model.add(Conv2D(128, kernel_size=(5, 5), activation='relu', padding='same'))\n",
    "    model.add(BatchNormalization())\n",
    "    model.add(MaxPooling2D(pool_size=(2, 2)))\n",
    "    model.add(Dropout(0.25))\n",
    "\n",
    "    model.add(Conv2D(256, (3, 3),activation='relu',padding='same'))\n",
    "    model.add(Conv2D(256, (3, 3),activation='relu',padding='same'))\n",
    "    model.add(BatchNormalization())\n",
    "    model.add(MaxPooling2D(pool_size=(2, 2)))\n",
    "    model.add(Dropout(0.25))\n",
    "    \n",
    "    model.add(Conv2D(256, (3, 3),activation='relu',padding='same'))\n",
    "    model.add(Conv2D(256, (3, 3),activation='relu',padding='same'))\n",
    "    model.add(BatchNormalization())\n",
    "    model.add(MaxPooling2D(pool_size=(2, 2)))\n",
    "    model.add(Dropout(0.25))\n",
    "    \n",
    "    model.add(Flatten())\n",
    "    \n",
    "    model.add(Dense(512))\n",
    "    model.add(BatchNormalization())\n",
    "    model.add(Activation('relu'))\n",
    "    model.add(Dropout(0.5))\n",
    "    \n",
    "    model.add(Dense(256))\n",
    "    model.add(BatchNormalization())\n",
    "    model.add(Activation('relu'))\n",
    "    model.add(Dropout(0.2))\n",
    "    \n",
    "    model.add(Dense(classes))\n",
    "    model.add(Activation('softmax'))\n",
    "\n",
    "\n",
    "    model.compile(optimizer='adam', \n",
    "                  loss='categorical_crossentropy', \n",
    "                  metrics=['accuracy'])\n",
    "    return model"
   ]
  },
  {
   "cell_type": "code",
   "execution_count": 23,
   "metadata": {},
   "outputs": [
    {
     "name": "stdout",
     "output_type": "stream",
     "text": [
      "Model: \"sequential\"\n",
      "_________________________________________________________________\n",
      " Layer (type)                Output Shape              Param #   \n",
      "=================================================================\n",
      " conv2d (Conv2D)             (None, 48, 48, 64)        1664      \n",
      "                                                                 \n",
      " conv2d_1 (Conv2D)           (None, 48, 48, 64)        102464    \n",
      "                                                                 \n",
      " batch_normalization (BatchN  (None, 48, 48, 64)       256       \n",
      " ormalization)                                                   \n",
      "                                                                 \n",
      " max_pooling2d (MaxPooling2D  (None, 24, 24, 64)       0         \n",
      " )                                                               \n",
      "                                                                 \n",
      " dropout (Dropout)           (None, 24, 24, 64)        0         \n",
      "                                                                 \n",
      " conv2d_2 (Conv2D)           (None, 24, 24, 128)       204928    \n",
      "                                                                 \n",
      " conv2d_3 (Conv2D)           (None, 24, 24, 128)       409728    \n",
      "                                                                 \n",
      " batch_normalization_1 (Batc  (None, 24, 24, 128)      512       \n",
      " hNormalization)                                                 \n",
      "                                                                 \n",
      " max_pooling2d_1 (MaxPooling  (None, 12, 12, 128)      0         \n",
      " 2D)                                                             \n",
      "                                                                 \n",
      " dropout_1 (Dropout)         (None, 12, 12, 128)       0         \n",
      "                                                                 \n",
      " conv2d_4 (Conv2D)           (None, 12, 12, 256)       295168    \n",
      "                                                                 \n",
      " conv2d_5 (Conv2D)           (None, 12, 12, 256)       590080    \n",
      "                                                                 \n",
      " batch_normalization_2 (Batc  (None, 12, 12, 256)      1024      \n",
      " hNormalization)                                                 \n",
      "                                                                 \n",
      " max_pooling2d_2 (MaxPooling  (None, 6, 6, 256)        0         \n",
      " 2D)                                                             \n",
      "                                                                 \n",
      " dropout_2 (Dropout)         (None, 6, 6, 256)         0         \n",
      "                                                                 \n",
      " conv2d_6 (Conv2D)           (None, 6, 6, 256)         590080    \n",
      "                                                                 \n",
      " conv2d_7 (Conv2D)           (None, 6, 6, 256)         590080    \n",
      "                                                                 \n",
      " batch_normalization_3 (Batc  (None, 6, 6, 256)        1024      \n",
      " hNormalization)                                                 \n",
      "                                                                 \n",
      " max_pooling2d_3 (MaxPooling  (None, 3, 3, 256)        0         \n",
      " 2D)                                                             \n",
      "                                                                 \n",
      " dropout_3 (Dropout)         (None, 3, 3, 256)         0         \n",
      "                                                                 \n",
      " flatten (Flatten)           (None, 2304)              0         \n",
      "                                                                 \n",
      " dense (Dense)               (None, 512)               1180160   \n",
      "                                                                 \n",
      " batch_normalization_4 (Batc  (None, 512)              2048      \n",
      " hNormalization)                                                 \n",
      "                                                                 \n",
      " activation (Activation)     (None, 512)               0         \n",
      "                                                                 \n",
      " dropout_4 (Dropout)         (None, 512)               0         \n",
      "                                                                 \n",
      " dense_1 (Dense)             (None, 256)               131328    \n",
      "                                                                 \n",
      " batch_normalization_5 (Batc  (None, 256)              1024      \n",
      " hNormalization)                                                 \n",
      "                                                                 \n",
      " activation_1 (Activation)   (None, 256)               0         \n",
      "                                                                 \n",
      " dropout_5 (Dropout)         (None, 256)               0         \n",
      "                                                                 \n",
      " dense_2 (Dense)             (None, 7)                 1799      \n",
      "                                                                 \n",
      " activation_2 (Activation)   (None, 7)                 0         \n",
      "                                                                 \n",
      "=================================================================\n",
      "Total params: 4,103,367\n",
      "Trainable params: 4,100,423\n",
      "Non-trainable params: 2,944\n",
      "_________________________________________________________________\n"
     ]
    }
   ],
   "source": [
    "DemoDay = DemoDayModel((48,48,1), 7)\n",
    "DemoDay.summary()"
   ]
  },
  {
   "cell_type": "markdown",
   "metadata": {},
   "source": [
    "# Checkpoint"
   ]
  },
  {
   "cell_type": "code",
   "execution_count": 24,
   "metadata": {},
   "outputs": [],
   "source": [
    "import datetime\n",
    "from keras.callbacks import ModelCheckpoint, CSVLogger, TensorBoard, EarlyStopping, ReduceLROnPlateau\n"
   ]
  },
  {
   "cell_type": "code",
   "execution_count": 25,
   "metadata": {},
   "outputs": [],
   "source": [
    "chk_path = 'FACE_4.h5'\n",
    "log_dir = \"checkpoint/logs/\" + datetime.datetime.now().strftime(\"%Y%m%d-%H%M%S\")\n",
    "\n",
    "checkpoint = ModelCheckpoint(filepath=chk_path,\n",
    "                             save_best_only=True,\n",
    "                             verbose=1,\n",
    "                             mode='min',\n",
    "                             moniter='val_accuracy')\n",
    "\n",
    "earlystop = EarlyStopping(monitor='val_accuracy', \n",
    "                          min_delta=0, \n",
    "                          patience=3, \n",
    "                          verbose=1, \n",
    "                          restore_best_weights=True)\n",
    "                        \n",
    "reduce_lr = ReduceLROnPlateau(monitor='val_accuracy', \n",
    "                              factor=0.2, \n",
    "                              patience=6, \n",
    "                              verbose=1, \n",
    "                              min_delta=0.0001)\n",
    "\n",
    "\n",
    "tensorboard_callback = tf.keras.callbacks.TensorBoard(log_dir=log_dir, histogram_freq=1)\n",
    "csv_logger = CSVLogger('training.log')\n",
    "\n",
    "callbacks = [checkpoint, reduce_lr, csv_logger]"
   ]
  },
  {
   "cell_type": "code",
   "execution_count": 26,
   "metadata": {},
   "outputs": [
    {
     "name": "stdout",
     "output_type": "stream",
     "text": [
      "Epoch 1/125\n",
      "896/897 [============================>.] - ETA: 0s - loss: 1.8588 - accuracy: 0.2480\n",
      "Epoch 1: val_loss improved from inf to 1.73259, saving model to FACE_4.h5\n",
      "897/897 [==============================] - 25s 23ms/step - loss: 1.8585 - accuracy: 0.2481 - val_loss: 1.7326 - val_accuracy: 0.2976 - lr: 0.0010\n",
      "Epoch 2/125\n",
      "897/897 [==============================] - ETA: 0s - loss: 1.6936 - accuracy: 0.3305\n",
      "Epoch 2: val_loss improved from 1.73259 to 1.55739, saving model to FACE_4.h5\n",
      "897/897 [==============================] - 20s 22ms/step - loss: 1.6936 - accuracy: 0.3305 - val_loss: 1.5574 - val_accuracy: 0.3969 - lr: 0.0010\n",
      "Epoch 3/125\n",
      "896/897 [============================>.] - ETA: 0s - loss: 1.5692 - accuracy: 0.3860\n",
      "Epoch 3: val_loss did not improve from 1.55739\n",
      "897/897 [==============================] - 19s 21ms/step - loss: 1.5691 - accuracy: 0.3860 - val_loss: 1.5747 - val_accuracy: 0.3757 - lr: 0.0010\n",
      "Epoch 4/125\n",
      "897/897 [==============================] - ETA: 0s - loss: 1.4643 - accuracy: 0.4309\n",
      "Epoch 4: val_loss improved from 1.55739 to 1.35427, saving model to FACE_4.h5\n",
      "897/897 [==============================] - 20s 22ms/step - loss: 1.4643 - accuracy: 0.4309 - val_loss: 1.3543 - val_accuracy: 0.4838 - lr: 0.0010\n",
      "Epoch 5/125\n",
      "897/897 [==============================] - ETA: 0s - loss: 1.3824 - accuracy: 0.4648\n",
      "Epoch 5: val_loss improved from 1.35427 to 1.29942, saving model to FACE_4.h5\n",
      "897/897 [==============================] - 20s 22ms/step - loss: 1.3824 - accuracy: 0.4648 - val_loss: 1.2994 - val_accuracy: 0.5000 - lr: 0.0010\n",
      "Epoch 6/125\n",
      "896/897 [============================>.] - ETA: 0s - loss: 1.3239 - accuracy: 0.4951\n",
      "Epoch 6: val_loss improved from 1.29942 to 1.23132, saving model to FACE_4.h5\n",
      "897/897 [==============================] - 20s 22ms/step - loss: 1.3239 - accuracy: 0.4952 - val_loss: 1.2313 - val_accuracy: 0.5409 - lr: 0.0010\n",
      "Epoch 7/125\n",
      "895/897 [============================>.] - ETA: 0s - loss: 1.2771 - accuracy: 0.5138\n",
      "Epoch 7: val_loss improved from 1.23132 to 1.19256, saving model to FACE_4.h5\n",
      "897/897 [==============================] - 20s 22ms/step - loss: 1.2773 - accuracy: 0.5138 - val_loss: 1.1926 - val_accuracy: 0.5377 - lr: 0.0010\n",
      "Epoch 8/125\n",
      "895/897 [============================>.] - ETA: 0s - loss: 1.2377 - accuracy: 0.5310\n",
      "Epoch 8: val_loss improved from 1.19256 to 1.16147, saving model to FACE_4.h5\n",
      "897/897 [==============================] - 20s 22ms/step - loss: 1.2372 - accuracy: 0.5313 - val_loss: 1.1615 - val_accuracy: 0.5578 - lr: 0.0010\n",
      "Epoch 9/125\n",
      "896/897 [============================>.] - ETA: 0s - loss: 1.2014 - accuracy: 0.5455\n",
      "Epoch 9: val_loss improved from 1.16147 to 1.12870, saving model to FACE_4.h5\n",
      "897/897 [==============================] - 20s 22ms/step - loss: 1.2011 - accuracy: 0.5456 - val_loss: 1.1287 - val_accuracy: 0.5731 - lr: 0.0010\n",
      "Epoch 10/125\n",
      "896/897 [============================>.] - ETA: 0s - loss: 1.1784 - accuracy: 0.5576\n",
      "Epoch 10: val_loss did not improve from 1.12870\n",
      "897/897 [==============================] - 20s 22ms/step - loss: 1.1786 - accuracy: 0.5575 - val_loss: 1.1687 - val_accuracy: 0.5497 - lr: 0.0010\n",
      "Epoch 11/125\n",
      "896/897 [============================>.] - ETA: 0s - loss: 1.1577 - accuracy: 0.5652\n",
      "Epoch 11: val_loss improved from 1.12870 to 1.08726, saving model to FACE_4.h5\n",
      "897/897 [==============================] - 20s 22ms/step - loss: 1.1577 - accuracy: 0.5652 - val_loss: 1.0873 - val_accuracy: 0.5851 - lr: 0.0010\n",
      "Epoch 12/125\n",
      "896/897 [============================>.] - ETA: 0s - loss: 1.1342 - accuracy: 0.5753\n",
      "Epoch 12: val_loss improved from 1.08726 to 1.07657, saving model to FACE_4.h5\n",
      "897/897 [==============================] - 20s 22ms/step - loss: 1.1345 - accuracy: 0.5751 - val_loss: 1.0766 - val_accuracy: 0.6011 - lr: 0.0010\n",
      "Epoch 13/125\n",
      "897/897 [==============================] - ETA: 0s - loss: 1.1209 - accuracy: 0.5759\n",
      "Epoch 13: val_loss improved from 1.07657 to 1.05169, saving model to FACE_4.h5\n",
      "897/897 [==============================] - 20s 22ms/step - loss: 1.1209 - accuracy: 0.5759 - val_loss: 1.0517 - val_accuracy: 0.6087 - lr: 0.0010\n",
      "Epoch 14/125\n",
      "895/897 [============================>.] - ETA: 0s - loss: 1.0927 - accuracy: 0.5893\n",
      "Epoch 14: val_loss did not improve from 1.05169\n",
      "897/897 [==============================] - 20s 22ms/step - loss: 1.0932 - accuracy: 0.5891 - val_loss: 1.0784 - val_accuracy: 0.5884 - lr: 0.0010\n",
      "Epoch 15/125\n",
      "897/897 [==============================] - ETA: 0s - loss: 1.0748 - accuracy: 0.5988\n",
      "Epoch 15: val_loss improved from 1.05169 to 1.03668, saving model to FACE_4.h5\n",
      "897/897 [==============================] - 20s 22ms/step - loss: 1.0748 - accuracy: 0.5988 - val_loss: 1.0367 - val_accuracy: 0.6074 - lr: 0.0010\n",
      "Epoch 16/125\n",
      "897/897 [==============================] - ETA: 0s - loss: 1.0577 - accuracy: 0.6030\n",
      "Epoch 16: val_loss improved from 1.03668 to 1.02937, saving model to FACE_4.h5\n",
      "897/897 [==============================] - 21s 23ms/step - loss: 1.0577 - accuracy: 0.6030 - val_loss: 1.0294 - val_accuracy: 0.6190 - lr: 0.0010\n",
      "Epoch 17/125\n",
      "897/897 [==============================] - ETA: 0s - loss: 1.0484 - accuracy: 0.6112\n",
      "Epoch 17: val_loss did not improve from 1.02937\n",
      "897/897 [==============================] - 19s 22ms/step - loss: 1.0484 - accuracy: 0.6112 - val_loss: 1.0516 - val_accuracy: 0.6011 - lr: 0.0010\n",
      "Epoch 18/125\n",
      "897/897 [==============================] - ETA: 0s - loss: 1.0314 - accuracy: 0.6142\n",
      "Epoch 18: val_loss did not improve from 1.02937\n",
      "897/897 [==============================] - 19s 22ms/step - loss: 1.0314 - accuracy: 0.6142 - val_loss: 1.0775 - val_accuracy: 0.5847 - lr: 0.0010\n",
      "Epoch 19/125\n",
      "896/897 [============================>.] - ETA: 0s - loss: 1.0203 - accuracy: 0.6172\n",
      "Epoch 19: val_loss improved from 1.02937 to 0.99996, saving model to FACE_4.h5\n",
      "897/897 [==============================] - 20s 22ms/step - loss: 1.0203 - accuracy: 0.6172 - val_loss: 1.0000 - val_accuracy: 0.6297 - lr: 0.0010\n",
      "Epoch 20/125\n",
      "897/897 [==============================] - ETA: 0s - loss: 1.0074 - accuracy: 0.6236\n",
      "Epoch 20: val_loss did not improve from 0.99996\n",
      "897/897 [==============================] - 20s 22ms/step - loss: 1.0074 - accuracy: 0.6236 - val_loss: 1.0435 - val_accuracy: 0.6152 - lr: 0.0010\n",
      "Epoch 21/125\n",
      "897/897 [==============================] - ETA: 0s - loss: 0.9942 - accuracy: 0.6301\n",
      "Epoch 21: val_loss improved from 0.99996 to 0.97727, saving model to FACE_4.h5\n",
      "897/897 [==============================] - 20s 22ms/step - loss: 0.9942 - accuracy: 0.6301 - val_loss: 0.9773 - val_accuracy: 0.6371 - lr: 0.0010\n",
      "Epoch 22/125\n",
      "897/897 [==============================] - ETA: 0s - loss: 0.9837 - accuracy: 0.6366\n",
      "Epoch 22: val_loss did not improve from 0.97727\n",
      "897/897 [==============================] - 19s 22ms/step - loss: 0.9837 - accuracy: 0.6366 - val_loss: 1.0125 - val_accuracy: 0.6210 - lr: 0.0010\n",
      "Epoch 23/125\n",
      "896/897 [============================>.] - ETA: 0s - loss: 0.9740 - accuracy: 0.6357\n",
      "Epoch 23: val_loss did not improve from 0.97727\n",
      "897/897 [==============================] - 19s 21ms/step - loss: 0.9739 - accuracy: 0.6357 - val_loss: 1.0151 - val_accuracy: 0.6277 - lr: 0.0010\n",
      "Epoch 24/125\n",
      "896/897 [============================>.] - ETA: 0s - loss: 0.9589 - accuracy: 0.6418\n",
      "Epoch 24: val_loss did not improve from 0.97727\n",
      "897/897 [==============================] - 20s 22ms/step - loss: 0.9588 - accuracy: 0.6418 - val_loss: 0.9967 - val_accuracy: 0.6342 - lr: 0.0010\n",
      "Epoch 25/125\n",
      "896/897 [============================>.] - ETA: 0s - loss: 0.9542 - accuracy: 0.6461\n",
      "Epoch 25: val_loss did not improve from 0.97727\n",
      "897/897 [==============================] - 19s 22ms/step - loss: 0.9544 - accuracy: 0.6460 - val_loss: 1.0066 - val_accuracy: 0.6339 - lr: 0.0010\n",
      "Epoch 26/125\n",
      "896/897 [============================>.] - ETA: 0s - loss: 0.9405 - accuracy: 0.6507\n",
      "Epoch 26: val_loss improved from 0.97727 to 0.97337, saving model to FACE_4.h5\n",
      "897/897 [==============================] - 20s 22ms/step - loss: 0.9406 - accuracy: 0.6505 - val_loss: 0.9734 - val_accuracy: 0.6441 - lr: 0.0010\n",
      "Epoch 27/125\n",
      "896/897 [============================>.] - ETA: 0s - loss: 0.9323 - accuracy: 0.6539\n",
      "Epoch 27: val_loss did not improve from 0.97337\n",
      "897/897 [==============================] - 19s 21ms/step - loss: 0.9322 - accuracy: 0.6538 - val_loss: 0.9836 - val_accuracy: 0.6416 - lr: 0.0010\n",
      "Epoch 28/125\n",
      "896/897 [============================>.] - ETA: 0s - loss: 0.9259 - accuracy: 0.6528\n",
      "Epoch 28: val_loss improved from 0.97337 to 0.96269, saving model to FACE_4.h5\n",
      "897/897 [==============================] - 20s 22ms/step - loss: 0.9257 - accuracy: 0.6528 - val_loss: 0.9627 - val_accuracy: 0.6436 - lr: 0.0010\n",
      "Epoch 29/125\n",
      "897/897 [==============================] - ETA: 0s - loss: 0.9051 - accuracy: 0.6619\n",
      "Epoch 29: val_loss did not improve from 0.96269\n",
      "897/897 [==============================] - 19s 22ms/step - loss: 0.9051 - accuracy: 0.6619 - val_loss: 0.9681 - val_accuracy: 0.6449 - lr: 0.0010\n",
      "Epoch 30/125\n",
      "897/897 [==============================] - ETA: 0s - loss: 0.9031 - accuracy: 0.6656\n",
      "Epoch 30: val_loss did not improve from 0.96269\n",
      "897/897 [==============================] - 19s 21ms/step - loss: 0.9031 - accuracy: 0.6656 - val_loss: 0.9815 - val_accuracy: 0.6448 - lr: 0.0010\n",
      "Epoch 31/125\n",
      "896/897 [============================>.] - ETA: 0s - loss: 0.8923 - accuracy: 0.6684\n",
      "Epoch 31: val_loss did not improve from 0.96269\n",
      "897/897 [==============================] - 20s 22ms/step - loss: 0.8923 - accuracy: 0.6684 - val_loss: 0.9932 - val_accuracy: 0.6367 - lr: 0.0010\n",
      "Epoch 32/125\n",
      "895/897 [============================>.] - ETA: 0s - loss: 0.8782 - accuracy: 0.6735\n",
      "Epoch 32: val_loss did not improve from 0.96269\n",
      "897/897 [==============================] - 19s 21ms/step - loss: 0.8783 - accuracy: 0.6735 - val_loss: 1.0153 - val_accuracy: 0.6373 - lr: 0.0010\n",
      "Epoch 33/125\n",
      "896/897 [============================>.] - ETA: 0s - loss: 0.8752 - accuracy: 0.6768\n",
      "Epoch 33: val_loss did not improve from 0.96269\n",
      "897/897 [==============================] - 20s 22ms/step - loss: 0.8751 - accuracy: 0.6768 - val_loss: 0.9649 - val_accuracy: 0.6504 - lr: 0.0010\n",
      "Epoch 34/125\n",
      "897/897 [==============================] - ETA: 0s - loss: 0.8602 - accuracy: 0.6792\n",
      "Epoch 34: val_loss did not improve from 0.96269\n",
      "897/897 [==============================] - 19s 22ms/step - loss: 0.8602 - accuracy: 0.6792 - val_loss: 0.9656 - val_accuracy: 0.6509 - lr: 0.0010\n",
      "Epoch 35/125\n",
      "897/897 [==============================] - ETA: 0s - loss: 0.8535 - accuracy: 0.6835\n",
      "Epoch 35: val_loss improved from 0.96269 to 0.95631, saving model to FACE_4.h5\n",
      "897/897 [==============================] - 20s 22ms/step - loss: 0.8535 - accuracy: 0.6835 - val_loss: 0.9563 - val_accuracy: 0.6525 - lr: 0.0010\n",
      "Epoch 36/125\n",
      "896/897 [============================>.] - ETA: 0s - loss: 0.8412 - accuracy: 0.6879\n",
      "Epoch 36: val_loss did not improve from 0.95631\n",
      "897/897 [==============================] - 19s 22ms/step - loss: 0.8409 - accuracy: 0.6880 - val_loss: 0.9872 - val_accuracy: 0.6377 - lr: 0.0010\n",
      "Epoch 37/125\n",
      "896/897 [============================>.] - ETA: 0s - loss: 0.8408 - accuracy: 0.6870\n",
      "Epoch 37: val_loss did not improve from 0.95631\n",
      "897/897 [==============================] - 20s 22ms/step - loss: 0.8406 - accuracy: 0.6871 - val_loss: 1.0509 - val_accuracy: 0.6268 - lr: 0.0010\n",
      "Epoch 38/125\n",
      "896/897 [============================>.] - ETA: 0s - loss: 0.8346 - accuracy: 0.6891\n",
      "Epoch 38: val_loss did not improve from 0.95631\n",
      "897/897 [==============================] - 19s 22ms/step - loss: 0.8348 - accuracy: 0.6889 - val_loss: 0.9820 - val_accuracy: 0.6494 - lr: 0.0010\n",
      "Epoch 39/125\n",
      "896/897 [============================>.] - ETA: 0s - loss: 0.8173 - accuracy: 0.6980\n",
      "Epoch 39: val_loss did not improve from 0.95631\n",
      "897/897 [==============================] - 20s 22ms/step - loss: 0.8171 - accuracy: 0.6981 - val_loss: 0.9611 - val_accuracy: 0.6547 - lr: 0.0010\n",
      "Epoch 40/125\n",
      "897/897 [==============================] - ETA: 0s - loss: 0.8248 - accuracy: 0.6953\n",
      "Epoch 40: val_loss improved from 0.95631 to 0.95484, saving model to FACE_4.h5\n",
      "897/897 [==============================] - 20s 22ms/step - loss: 0.8248 - accuracy: 0.6953 - val_loss: 0.9548 - val_accuracy: 0.6560 - lr: 0.0010\n",
      "Epoch 41/125\n",
      "895/897 [============================>.] - ETA: 0s - loss: 0.8039 - accuracy: 0.7008\n",
      "Epoch 41: val_loss did not improve from 0.95484\n",
      "897/897 [==============================] - 19s 21ms/step - loss: 0.8035 - accuracy: 0.7009 - val_loss: 0.9712 - val_accuracy: 0.6549 - lr: 0.0010\n",
      "Epoch 42/125\n",
      "897/897 [==============================] - ETA: 0s - loss: 0.7975 - accuracy: 0.7046\n",
      "Epoch 42: val_loss did not improve from 0.95484\n",
      "897/897 [==============================] - 20s 22ms/step - loss: 0.7975 - accuracy: 0.7046 - val_loss: 0.9557 - val_accuracy: 0.6574 - lr: 0.0010\n",
      "Epoch 43/125\n",
      "896/897 [============================>.] - ETA: 0s - loss: 0.7975 - accuracy: 0.7041\n",
      "Epoch 43: val_loss did not improve from 0.95484\n",
      "897/897 [==============================] - 20s 22ms/step - loss: 0.7973 - accuracy: 0.7041 - val_loss: 0.9641 - val_accuracy: 0.6543 - lr: 0.0010\n",
      "Epoch 44/125\n",
      "895/897 [============================>.] - ETA: 0s - loss: 0.7822 - accuracy: 0.7130\n",
      "Epoch 44: val_loss did not improve from 0.95484\n",
      "897/897 [==============================] - 20s 22ms/step - loss: 0.7825 - accuracy: 0.7130 - val_loss: 0.9767 - val_accuracy: 0.6632 - lr: 0.0010\n",
      "Epoch 45/125\n",
      "895/897 [============================>.] - ETA: 0s - loss: 0.7881 - accuracy: 0.7072\n",
      "Epoch 45: val_loss did not improve from 0.95484\n",
      "897/897 [==============================] - 20s 22ms/step - loss: 0.7881 - accuracy: 0.7073 - val_loss: 0.9848 - val_accuracy: 0.6592 - lr: 0.0010\n",
      "Epoch 46/125\n",
      "897/897 [==============================] - ETA: 0s - loss: 0.7715 - accuracy: 0.7120\n",
      "Epoch 46: val_loss improved from 0.95484 to 0.93859, saving model to FACE_4.h5\n",
      "897/897 [==============================] - 22s 24ms/step - loss: 0.7715 - accuracy: 0.7120 - val_loss: 0.9386 - val_accuracy: 0.6680 - lr: 0.0010\n",
      "Epoch 47/125\n",
      "895/897 [============================>.] - ETA: 0s - loss: 0.7636 - accuracy: 0.7185\n",
      "Epoch 47: val_loss did not improve from 0.93859\n",
      "897/897 [==============================] - 20s 22ms/step - loss: 0.7632 - accuracy: 0.7186 - val_loss: 0.9579 - val_accuracy: 0.6696 - lr: 0.0010\n",
      "Epoch 48/125\n",
      "895/897 [============================>.] - ETA: 0s - loss: 0.7610 - accuracy: 0.7174\n",
      "Epoch 48: val_loss did not improve from 0.93859\n",
      "897/897 [==============================] - 20s 22ms/step - loss: 0.7611 - accuracy: 0.7176 - val_loss: 0.9687 - val_accuracy: 0.6673 - lr: 0.0010\n",
      "Epoch 49/125\n",
      "897/897 [==============================] - ETA: 0s - loss: 0.7529 - accuracy: 0.7213\n",
      "Epoch 49: val_loss did not improve from 0.93859\n",
      "897/897 [==============================] - 19s 22ms/step - loss: 0.7529 - accuracy: 0.7213 - val_loss: 0.9643 - val_accuracy: 0.6597 - lr: 0.0010\n",
      "Epoch 50/125\n",
      "896/897 [============================>.] - ETA: 0s - loss: 0.7487 - accuracy: 0.7236\n",
      "Epoch 50: val_loss did not improve from 0.93859\n",
      "897/897 [==============================] - 19s 22ms/step - loss: 0.7487 - accuracy: 0.7235 - val_loss: 0.9711 - val_accuracy: 0.6643 - lr: 0.0010\n",
      "Epoch 51/125\n",
      "895/897 [============================>.] - ETA: 0s - loss: 0.7414 - accuracy: 0.7245\n",
      "Epoch 51: val_loss did not improve from 0.93859\n",
      "897/897 [==============================] - 20s 22ms/step - loss: 0.7413 - accuracy: 0.7246 - val_loss: 0.9615 - val_accuracy: 0.6624 - lr: 0.0010\n",
      "Epoch 52/125\n",
      "897/897 [==============================] - ETA: 0s - loss: 0.7378 - accuracy: 0.7259\n",
      "Epoch 52: val_loss did not improve from 0.93859\n",
      "897/897 [==============================] - 20s 22ms/step - loss: 0.7378 - accuracy: 0.7259 - val_loss: 0.9650 - val_accuracy: 0.6655 - lr: 0.0010\n",
      "Epoch 53/125\n",
      "895/897 [============================>.] - ETA: 0s - loss: 0.7309 - accuracy: 0.7297\n",
      "Epoch 53: val_loss did not improve from 0.93859\n",
      "\n",
      "Epoch 53: ReduceLROnPlateau reducing learning rate to 0.00020000000949949026.\n",
      "897/897 [==============================] - 20s 22ms/step - loss: 0.7312 - accuracy: 0.7297 - val_loss: 0.9696 - val_accuracy: 0.6660 - lr: 0.0010\n",
      "Epoch 54/125\n",
      "897/897 [==============================] - ETA: 0s - loss: 0.6770 - accuracy: 0.7524\n",
      "Epoch 54: val_loss did not improve from 0.93859\n",
      "897/897 [==============================] - 20s 22ms/step - loss: 0.6770 - accuracy: 0.7524 - val_loss: 0.9719 - val_accuracy: 0.6691 - lr: 2.0000e-04\n",
      "Epoch 55/125\n",
      "897/897 [==============================] - ETA: 0s - loss: 0.6614 - accuracy: 0.7549\n",
      "Epoch 55: val_loss did not improve from 0.93859\n",
      "897/897 [==============================] - 19s 22ms/step - loss: 0.6614 - accuracy: 0.7549 - val_loss: 0.9494 - val_accuracy: 0.6790 - lr: 2.0000e-04\n",
      "Epoch 56/125\n",
      "895/897 [============================>.] - ETA: 0s - loss: 0.6430 - accuracy: 0.7605\n",
      "Epoch 56: val_loss did not improve from 0.93859\n",
      "897/897 [==============================] - 20s 22ms/step - loss: 0.6431 - accuracy: 0.7605 - val_loss: 0.9651 - val_accuracy: 0.6811 - lr: 2.0000e-04\n",
      "Epoch 57/125\n",
      "896/897 [============================>.] - ETA: 0s - loss: 0.6365 - accuracy: 0.7663\n",
      "Epoch 57: val_loss did not improve from 0.93859\n",
      "897/897 [==============================] - 20s 22ms/step - loss: 0.6361 - accuracy: 0.7665 - val_loss: 0.9720 - val_accuracy: 0.6818 - lr: 2.0000e-04\n",
      "Epoch 58/125\n",
      "897/897 [==============================] - ETA: 0s - loss: 0.6275 - accuracy: 0.7711\n",
      "Epoch 58: val_loss did not improve from 0.93859\n",
      "897/897 [==============================] - 20s 22ms/step - loss: 0.6275 - accuracy: 0.7711 - val_loss: 0.9780 - val_accuracy: 0.6791 - lr: 2.0000e-04\n",
      "Epoch 59/125\n",
      "895/897 [============================>.] - ETA: 0s - loss: 0.6189 - accuracy: 0.7717\n",
      "Epoch 59: val_loss did not improve from 0.93859\n",
      "897/897 [==============================] - 20s 22ms/step - loss: 0.6188 - accuracy: 0.7718 - val_loss: 0.9738 - val_accuracy: 0.6825 - lr: 2.0000e-04\n",
      "Epoch 60/125\n",
      "896/897 [============================>.] - ETA: 0s - loss: 0.6119 - accuracy: 0.7710\n",
      "Epoch 60: val_loss did not improve from 0.93859\n",
      "897/897 [==============================] - 20s 22ms/step - loss: 0.6119 - accuracy: 0.7709 - val_loss: 0.9794 - val_accuracy: 0.6812 - lr: 2.0000e-04\n",
      "Epoch 61/125\n",
      "896/897 [============================>.] - ETA: 0s - loss: 0.6055 - accuracy: 0.7760\n",
      "Epoch 61: val_loss did not improve from 0.93859\n",
      "897/897 [==============================] - 20s 22ms/step - loss: 0.6055 - accuracy: 0.7761 - val_loss: 0.9802 - val_accuracy: 0.6860 - lr: 2.0000e-04\n",
      "Epoch 62/125\n",
      "895/897 [============================>.] - ETA: 0s - loss: 0.6012 - accuracy: 0.7787\n",
      "Epoch 62: val_loss did not improve from 0.93859\n",
      "897/897 [==============================] - 20s 22ms/step - loss: 0.6013 - accuracy: 0.7786 - val_loss: 0.9842 - val_accuracy: 0.6828 - lr: 2.0000e-04\n",
      "Epoch 63/125\n",
      "896/897 [============================>.] - ETA: 0s - loss: 0.5947 - accuracy: 0.7806\n",
      "Epoch 63: val_loss did not improve from 0.93859\n",
      "897/897 [==============================] - 20s 22ms/step - loss: 0.5952 - accuracy: 0.7805 - val_loss: 0.9882 - val_accuracy: 0.6825 - lr: 2.0000e-04\n",
      "Epoch 64/125\n",
      "897/897 [==============================] - ETA: 0s - loss: 0.5977 - accuracy: 0.7797\n",
      "Epoch 64: val_loss did not improve from 0.93859\n",
      "897/897 [==============================] - 19s 21ms/step - loss: 0.5977 - accuracy: 0.7797 - val_loss: 0.9813 - val_accuracy: 0.6853 - lr: 2.0000e-04\n",
      "Epoch 65/125\n",
      "895/897 [============================>.] - ETA: 0s - loss: 0.5935 - accuracy: 0.7797\n",
      "Epoch 65: val_loss did not improve from 0.93859\n",
      "897/897 [==============================] - 20s 22ms/step - loss: 0.5934 - accuracy: 0.7797 - val_loss: 0.9899 - val_accuracy: 0.6793 - lr: 2.0000e-04\n",
      "Epoch 66/125\n",
      "896/897 [============================>.] - ETA: 0s - loss: 0.5826 - accuracy: 0.7837\n",
      "Epoch 66: val_loss did not improve from 0.93859\n",
      "897/897 [==============================] - 20s 22ms/step - loss: 0.5825 - accuracy: 0.7837 - val_loss: 0.9930 - val_accuracy: 0.6818 - lr: 2.0000e-04\n",
      "Epoch 67/125\n",
      "897/897 [==============================] - ETA: 0s - loss: 0.5796 - accuracy: 0.7852\n",
      "Epoch 67: val_loss did not improve from 0.93859\n",
      "\n",
      "Epoch 67: ReduceLROnPlateau reducing learning rate to 4.0000001899898055e-05.\n",
      "897/897 [==============================] - 20s 22ms/step - loss: 0.5796 - accuracy: 0.7852 - val_loss: 1.0066 - val_accuracy: 0.6805 - lr: 2.0000e-04\n",
      "Epoch 68/125\n",
      "897/897 [==============================] - ETA: 0s - loss: 0.5675 - accuracy: 0.7913\n",
      "Epoch 68: val_loss did not improve from 0.93859\n",
      "897/897 [==============================] - 20s 22ms/step - loss: 0.5675 - accuracy: 0.7913 - val_loss: 0.9956 - val_accuracy: 0.6842 - lr: 4.0000e-05\n",
      "Epoch 69/125\n",
      "895/897 [============================>.] - ETA: 0s - loss: 0.5632 - accuracy: 0.7920\n",
      "Epoch 69: val_loss did not improve from 0.93859\n",
      "897/897 [==============================] - 20s 23ms/step - loss: 0.5628 - accuracy: 0.7921 - val_loss: 0.9971 - val_accuracy: 0.6840 - lr: 4.0000e-05\n",
      "Epoch 70/125\n",
      "895/897 [============================>.] - ETA: 0s - loss: 0.5559 - accuracy: 0.7950\n",
      "Epoch 70: val_loss did not improve from 0.93859\n",
      "897/897 [==============================] - 20s 22ms/step - loss: 0.5561 - accuracy: 0.7948 - val_loss: 0.9970 - val_accuracy: 0.6853 - lr: 4.0000e-05\n",
      "Epoch 71/125\n",
      "896/897 [============================>.] - ETA: 0s - loss: 0.5662 - accuracy: 0.7913\n",
      "Epoch 71: val_loss did not improve from 0.93859\n",
      "897/897 [==============================] - 20s 22ms/step - loss: 0.5663 - accuracy: 0.7913 - val_loss: 0.9967 - val_accuracy: 0.6861 - lr: 4.0000e-05\n",
      "Epoch 72/125\n",
      "896/897 [============================>.] - ETA: 0s - loss: 0.5675 - accuracy: 0.7899\n",
      "Epoch 72: val_loss did not improve from 0.93859\n",
      "897/897 [==============================] - 20s 22ms/step - loss: 0.5674 - accuracy: 0.7899 - val_loss: 0.9967 - val_accuracy: 0.6840 - lr: 4.0000e-05\n",
      "Epoch 73/125\n",
      "896/897 [============================>.] - ETA: 0s - loss: 0.5537 - accuracy: 0.7958\n",
      "Epoch 73: val_loss did not improve from 0.93859\n",
      "897/897 [==============================] - 20s 22ms/step - loss: 0.5538 - accuracy: 0.7957 - val_loss: 1.0017 - val_accuracy: 0.6846 - lr: 4.0000e-05\n",
      "Epoch 74/125\n",
      "895/897 [============================>.] - ETA: 0s - loss: 0.5595 - accuracy: 0.7941\n",
      "Epoch 74: val_loss did not improve from 0.93859\n",
      "897/897 [==============================] - 20s 22ms/step - loss: 0.5593 - accuracy: 0.7941 - val_loss: 1.0042 - val_accuracy: 0.6811 - lr: 4.0000e-05\n",
      "Epoch 75/125\n",
      "896/897 [============================>.] - ETA: 0s - loss: 0.5679 - accuracy: 0.7918\n",
      "Epoch 75: val_loss did not improve from 0.93859\n",
      "897/897 [==============================] - 20s 22ms/step - loss: 0.5681 - accuracy: 0.7918 - val_loss: 1.0024 - val_accuracy: 0.6839 - lr: 4.0000e-05\n",
      "Epoch 76/125\n",
      "897/897 [==============================] - ETA: 0s - loss: 0.5499 - accuracy: 0.7987\n",
      "Epoch 76: val_loss did not improve from 0.93859\n",
      "897/897 [==============================] - 20s 22ms/step - loss: 0.5499 - accuracy: 0.7987 - val_loss: 1.0036 - val_accuracy: 0.6850 - lr: 4.0000e-05\n",
      "Epoch 77/125\n",
      "897/897 [==============================] - ETA: 0s - loss: 0.5513 - accuracy: 0.7992\n",
      "Epoch 77: val_loss did not improve from 0.93859\n",
      "\n",
      "Epoch 77: ReduceLROnPlateau reducing learning rate to 8.000000525498762e-06.\n",
      "897/897 [==============================] - 19s 21ms/step - loss: 0.5513 - accuracy: 0.7992 - val_loss: 1.0042 - val_accuracy: 0.6853 - lr: 4.0000e-05\n",
      "Epoch 78/125\n",
      "895/897 [============================>.] - ETA: 0s - loss: 0.5471 - accuracy: 0.7994\n",
      "Epoch 78: val_loss did not improve from 0.93859\n",
      "897/897 [==============================] - 20s 22ms/step - loss: 0.5472 - accuracy: 0.7992 - val_loss: 1.0061 - val_accuracy: 0.6850 - lr: 8.0000e-06\n",
      "Epoch 79/125\n",
      "896/897 [============================>.] - ETA: 0s - loss: 0.5527 - accuracy: 0.7975\n",
      "Epoch 79: val_loss did not improve from 0.93859\n",
      "897/897 [==============================] - 20s 22ms/step - loss: 0.5528 - accuracy: 0.7975 - val_loss: 1.0033 - val_accuracy: 0.6865 - lr: 8.0000e-06\n",
      "Epoch 80/125\n",
      "896/897 [============================>.] - ETA: 0s - loss: 0.5493 - accuracy: 0.7992\n",
      "Epoch 80: val_loss did not improve from 0.93859\n",
      "897/897 [==============================] - 20s 22ms/step - loss: 0.5499 - accuracy: 0.7991 - val_loss: 1.0058 - val_accuracy: 0.6871 - lr: 8.0000e-06\n",
      "Epoch 81/125\n",
      "895/897 [============================>.] - ETA: 0s - loss: 0.5500 - accuracy: 0.7958\n",
      "Epoch 81: val_loss did not improve from 0.93859\n",
      "897/897 [==============================] - 20s 22ms/step - loss: 0.5500 - accuracy: 0.7958 - val_loss: 1.0042 - val_accuracy: 0.6865 - lr: 8.0000e-06\n",
      "Epoch 82/125\n",
      "897/897 [==============================] - ETA: 0s - loss: 0.5516 - accuracy: 0.7988\n",
      "Epoch 82: val_loss did not improve from 0.93859\n",
      "897/897 [==============================] - 20s 22ms/step - loss: 0.5516 - accuracy: 0.7988 - val_loss: 1.0067 - val_accuracy: 0.6867 - lr: 8.0000e-06\n",
      "Epoch 83/125\n",
      "895/897 [============================>.] - ETA: 0s - loss: 0.5550 - accuracy: 0.7955\n",
      "Epoch 83: val_loss did not improve from 0.93859\n",
      "897/897 [==============================] - 19s 22ms/step - loss: 0.5550 - accuracy: 0.7956 - val_loss: 1.0054 - val_accuracy: 0.6868 - lr: 8.0000e-06\n",
      "Epoch 84/125\n",
      "896/897 [============================>.] - ETA: 0s - loss: 0.5468 - accuracy: 0.8004\n",
      "Epoch 84: val_loss did not improve from 0.93859\n",
      "897/897 [==============================] - 19s 22ms/step - loss: 0.5467 - accuracy: 0.8005 - val_loss: 1.0053 - val_accuracy: 0.6860 - lr: 8.0000e-06\n",
      "Epoch 85/125\n",
      "895/897 [============================>.] - ETA: 0s - loss: 0.5502 - accuracy: 0.7973\n",
      "Epoch 85: val_loss did not improve from 0.93859\n",
      "897/897 [==============================] - 19s 22ms/step - loss: 0.5502 - accuracy: 0.7972 - val_loss: 1.0078 - val_accuracy: 0.6854 - lr: 8.0000e-06\n",
      "Epoch 86/125\n",
      "897/897 [==============================] - ETA: 0s - loss: 0.5504 - accuracy: 0.7969\n",
      "Epoch 86: val_loss did not improve from 0.93859\n",
      "\n",
      "Epoch 86: ReduceLROnPlateau reducing learning rate to 1.6000001778593287e-06.\n",
      "897/897 [==============================] - 19s 22ms/step - loss: 0.5504 - accuracy: 0.7969 - val_loss: 1.0069 - val_accuracy: 0.6855 - lr: 8.0000e-06\n",
      "Epoch 87/125\n",
      "896/897 [============================>.] - ETA: 0s - loss: 0.5482 - accuracy: 0.7986\n",
      "Epoch 87: val_loss did not improve from 0.93859\n",
      "897/897 [==============================] - 20s 22ms/step - loss: 0.5483 - accuracy: 0.7985 - val_loss: 1.0063 - val_accuracy: 0.6861 - lr: 1.6000e-06\n",
      "Epoch 88/125\n",
      "895/897 [============================>.] - ETA: 0s - loss: 0.5502 - accuracy: 0.7992\n",
      "Epoch 88: val_loss did not improve from 0.93859\n",
      "897/897 [==============================] - 20s 22ms/step - loss: 0.5503 - accuracy: 0.7992 - val_loss: 1.0043 - val_accuracy: 0.6855 - lr: 1.6000e-06\n",
      "Epoch 89/125\n",
      "895/897 [============================>.] - ETA: 0s - loss: 0.5479 - accuracy: 0.7989\n",
      "Epoch 89: val_loss did not improve from 0.93859\n",
      "897/897 [==============================] - 20s 22ms/step - loss: 0.5479 - accuracy: 0.7989 - val_loss: 1.0089 - val_accuracy: 0.6855 - lr: 1.6000e-06\n",
      "Epoch 90/125\n",
      "895/897 [============================>.] - ETA: 0s - loss: 0.5534 - accuracy: 0.7968\n",
      "Epoch 90: val_loss did not improve from 0.93859\n",
      "897/897 [==============================] - 20s 22ms/step - loss: 0.5532 - accuracy: 0.7969 - val_loss: 1.0070 - val_accuracy: 0.6848 - lr: 1.6000e-06\n",
      "Epoch 91/125\n",
      "897/897 [==============================] - ETA: 0s - loss: 0.5528 - accuracy: 0.7982\n",
      "Epoch 91: val_loss did not improve from 0.93859\n",
      "897/897 [==============================] - 20s 22ms/step - loss: 0.5528 - accuracy: 0.7982 - val_loss: 1.0080 - val_accuracy: 0.6860 - lr: 1.6000e-06\n",
      "Epoch 92/125\n",
      "896/897 [============================>.] - ETA: 0s - loss: 0.5453 - accuracy: 0.8003\n",
      "Epoch 92: val_loss did not improve from 0.93859\n",
      "\n",
      "Epoch 92: ReduceLROnPlateau reducing learning rate to 3.200000264769187e-07.\n",
      "897/897 [==============================] - 19s 22ms/step - loss: 0.5457 - accuracy: 0.8002 - val_loss: 1.0107 - val_accuracy: 0.6853 - lr: 1.6000e-06\n",
      "Epoch 93/125\n",
      "896/897 [============================>.] - ETA: 0s - loss: 0.5511 - accuracy: 0.7975\n",
      "Epoch 93: val_loss did not improve from 0.93859\n",
      "897/897 [==============================] - 20s 22ms/step - loss: 0.5509 - accuracy: 0.7975 - val_loss: 1.0085 - val_accuracy: 0.6855 - lr: 3.2000e-07\n",
      "Epoch 94/125\n",
      "896/897 [============================>.] - ETA: 0s - loss: 0.5498 - accuracy: 0.7968\n",
      "Epoch 94: val_loss did not improve from 0.93859\n",
      "897/897 [==============================] - 19s 22ms/step - loss: 0.5496 - accuracy: 0.7969 - val_loss: 1.0084 - val_accuracy: 0.6850 - lr: 3.2000e-07\n",
      "Epoch 95/125\n",
      "897/897 [==============================] - ETA: 0s - loss: 0.5477 - accuracy: 0.7996\n",
      "Epoch 95: val_loss did not improve from 0.93859\n",
      "897/897 [==============================] - 20s 22ms/step - loss: 0.5477 - accuracy: 0.7996 - val_loss: 1.0061 - val_accuracy: 0.6862 - lr: 3.2000e-07\n",
      "Epoch 96/125\n",
      "895/897 [============================>.] - ETA: 0s - loss: 0.5472 - accuracy: 0.7975\n",
      "Epoch 96: val_loss did not improve from 0.93859\n",
      "897/897 [==============================] - 20s 22ms/step - loss: 0.5470 - accuracy: 0.7975 - val_loss: 1.0056 - val_accuracy: 0.6857 - lr: 3.2000e-07\n",
      "Epoch 97/125\n",
      "897/897 [==============================] - ETA: 0s - loss: 0.5452 - accuracy: 0.7997\n",
      "Epoch 97: val_loss did not improve from 0.93859\n",
      "897/897 [==============================] - 20s 22ms/step - loss: 0.5452 - accuracy: 0.7997 - val_loss: 1.0084 - val_accuracy: 0.6853 - lr: 3.2000e-07\n",
      "Epoch 98/125\n",
      "897/897 [==============================] - ETA: 0s - loss: 0.5424 - accuracy: 0.7978\n",
      "Epoch 98: val_loss did not improve from 0.93859\n",
      "\n",
      "Epoch 98: ReduceLROnPlateau reducing learning rate to 6.400000529538374e-08.\n",
      "897/897 [==============================] - 20s 22ms/step - loss: 0.5424 - accuracy: 0.7978 - val_loss: 1.0052 - val_accuracy: 0.6867 - lr: 3.2000e-07\n",
      "Epoch 99/125\n",
      "895/897 [============================>.] - ETA: 0s - loss: 0.5455 - accuracy: 0.7975\n",
      "Epoch 99: val_loss did not improve from 0.93859\n",
      "897/897 [==============================] - 20s 22ms/step - loss: 0.5455 - accuracy: 0.7975 - val_loss: 1.0036 - val_accuracy: 0.6853 - lr: 6.4000e-08\n",
      "Epoch 100/125\n",
      "897/897 [==============================] - ETA: 0s - loss: 0.5555 - accuracy: 0.7951\n",
      "Epoch 100: val_loss did not improve from 0.93859\n",
      "897/897 [==============================] - 20s 22ms/step - loss: 0.5555 - accuracy: 0.7951 - val_loss: 1.0088 - val_accuracy: 0.6847 - lr: 6.4000e-08\n",
      "Epoch 101/125\n",
      "896/897 [============================>.] - ETA: 0s - loss: 0.5495 - accuracy: 0.7970\n",
      "Epoch 101: val_loss did not improve from 0.93859\n",
      "897/897 [==============================] - 20s 22ms/step - loss: 0.5495 - accuracy: 0.7970 - val_loss: 1.0096 - val_accuracy: 0.6847 - lr: 6.4000e-08\n",
      "Epoch 102/125\n",
      "896/897 [============================>.] - ETA: 0s - loss: 0.5435 - accuracy: 0.7992\n",
      "Epoch 102: val_loss did not improve from 0.93859\n",
      "897/897 [==============================] - 19s 22ms/step - loss: 0.5437 - accuracy: 0.7991 - val_loss: 1.0099 - val_accuracy: 0.6846 - lr: 6.4000e-08\n",
      "Epoch 103/125\n",
      "897/897 [==============================] - ETA: 0s - loss: 0.5517 - accuracy: 0.7959\n",
      "Epoch 103: val_loss did not improve from 0.93859\n",
      "897/897 [==============================] - 20s 22ms/step - loss: 0.5517 - accuracy: 0.7959 - val_loss: 1.0094 - val_accuracy: 0.6860 - lr: 6.4000e-08\n",
      "Epoch 104/125\n",
      "896/897 [============================>.] - ETA: 0s - loss: 0.5459 - accuracy: 0.7997\n",
      "Epoch 104: val_loss did not improve from 0.93859\n",
      "\n",
      "Epoch 104: ReduceLROnPlateau reducing learning rate to 1.2800001059076749e-08.\n",
      "897/897 [==============================] - 20s 22ms/step - loss: 0.5457 - accuracy: 0.7998 - val_loss: 1.0066 - val_accuracy: 0.6851 - lr: 6.4000e-08\n",
      "Epoch 105/125\n",
      "897/897 [==============================] - ETA: 0s - loss: 0.5462 - accuracy: 0.7988\n",
      "Epoch 105: val_loss did not improve from 0.93859\n",
      "897/897 [==============================] - 20s 22ms/step - loss: 0.5462 - accuracy: 0.7988 - val_loss: 1.0100 - val_accuracy: 0.6864 - lr: 1.2800e-08\n",
      "Epoch 106/125\n",
      "897/897 [==============================] - ETA: 0s - loss: 0.5449 - accuracy: 0.7982\n",
      "Epoch 106: val_loss did not improve from 0.93859\n",
      "897/897 [==============================] - 21s 24ms/step - loss: 0.5449 - accuracy: 0.7982 - val_loss: 1.0073 - val_accuracy: 0.6860 - lr: 1.2800e-08\n",
      "Epoch 107/125\n",
      "895/897 [============================>.] - ETA: 0s - loss: 0.5474 - accuracy: 0.7988\n",
      "Epoch 107: val_loss did not improve from 0.93859\n",
      "897/897 [==============================] - 20s 22ms/step - loss: 0.5476 - accuracy: 0.7987 - val_loss: 1.0096 - val_accuracy: 0.6854 - lr: 1.2800e-08\n",
      "Epoch 108/125\n",
      "896/897 [============================>.] - ETA: 0s - loss: 0.5505 - accuracy: 0.7943\n",
      "Epoch 108: val_loss did not improve from 0.93859\n",
      "897/897 [==============================] - 20s 22ms/step - loss: 0.5508 - accuracy: 0.7942 - val_loss: 1.0050 - val_accuracy: 0.6850 - lr: 1.2800e-08\n",
      "Epoch 109/125\n",
      "897/897 [==============================] - ETA: 0s - loss: 0.5497 - accuracy: 0.7965\n",
      "Epoch 109: val_loss did not improve from 0.93859\n",
      "897/897 [==============================] - 20s 22ms/step - loss: 0.5497 - accuracy: 0.7965 - val_loss: 1.0038 - val_accuracy: 0.6857 - lr: 1.2800e-08\n",
      "Epoch 110/125\n",
      "896/897 [============================>.] - ETA: 0s - loss: 0.5531 - accuracy: 0.7952\n",
      "Epoch 110: val_loss did not improve from 0.93859\n",
      "\n",
      "Epoch 110: ReduceLROnPlateau reducing learning rate to 2.5600002118153498e-09.\n",
      "897/897 [==============================] - 20s 22ms/step - loss: 0.5530 - accuracy: 0.7952 - val_loss: 1.0072 - val_accuracy: 0.6862 - lr: 1.2800e-08\n",
      "Epoch 111/125\n",
      "896/897 [============================>.] - ETA: 0s - loss: 0.5421 - accuracy: 0.7991\n",
      "Epoch 111: val_loss did not improve from 0.93859\n",
      "897/897 [==============================] - 20s 22ms/step - loss: 0.5422 - accuracy: 0.7991 - val_loss: 1.0058 - val_accuracy: 0.6878 - lr: 2.5600e-09\n",
      "Epoch 112/125\n",
      "895/897 [============================>.] - ETA: 0s - loss: 0.5505 - accuracy: 0.7986\n",
      "Epoch 112: val_loss did not improve from 0.93859\n",
      "897/897 [==============================] - 20s 22ms/step - loss: 0.5506 - accuracy: 0.7986 - val_loss: 1.0085 - val_accuracy: 0.6854 - lr: 2.5600e-09\n",
      "Epoch 113/125\n",
      "896/897 [============================>.] - ETA: 0s - loss: 0.5471 - accuracy: 0.7974\n",
      "Epoch 113: val_loss did not improve from 0.93859\n",
      "897/897 [==============================] - 20s 22ms/step - loss: 0.5471 - accuracy: 0.7974 - val_loss: 1.0083 - val_accuracy: 0.6847 - lr: 2.5600e-09\n",
      "Epoch 114/125\n",
      "897/897 [==============================] - ETA: 0s - loss: 0.5529 - accuracy: 0.7961\n",
      "Epoch 114: val_loss did not improve from 0.93859\n",
      "897/897 [==============================] - 20s 22ms/step - loss: 0.5529 - accuracy: 0.7961 - val_loss: 1.0061 - val_accuracy: 0.6850 - lr: 2.5600e-09\n",
      "Epoch 115/125\n",
      "895/897 [============================>.] - ETA: 0s - loss: 0.5491 - accuracy: 0.7967\n",
      "Epoch 115: val_loss did not improve from 0.93859\n",
      "897/897 [==============================] - 20s 22ms/step - loss: 0.5489 - accuracy: 0.7967 - val_loss: 1.0094 - val_accuracy: 0.6858 - lr: 2.5600e-09\n",
      "Epoch 116/125\n",
      "897/897 [==============================] - ETA: 0s - loss: 0.5471 - accuracy: 0.7994\n",
      "Epoch 116: val_loss did not improve from 0.93859\n",
      "897/897 [==============================] - 20s 22ms/step - loss: 0.5471 - accuracy: 0.7994 - val_loss: 1.0066 - val_accuracy: 0.6855 - lr: 2.5600e-09\n",
      "Epoch 117/125\n",
      "895/897 [============================>.] - ETA: 0s - loss: 0.5479 - accuracy: 0.7981\n",
      "Epoch 117: val_loss did not improve from 0.93859\n",
      "\n",
      "Epoch 117: ReduceLROnPlateau reducing learning rate to 5.1200004236307e-10.\n",
      "897/897 [==============================] - 20s 22ms/step - loss: 0.5480 - accuracy: 0.7982 - val_loss: 1.0076 - val_accuracy: 0.6855 - lr: 2.5600e-09\n",
      "Epoch 118/125\n",
      "895/897 [============================>.] - ETA: 0s - loss: 0.5463 - accuracy: 0.7993\n",
      "Epoch 118: val_loss did not improve from 0.93859\n",
      "897/897 [==============================] - 20s 22ms/step - loss: 0.5463 - accuracy: 0.7991 - val_loss: 1.0077 - val_accuracy: 0.6860 - lr: 5.1200e-10\n",
      "Epoch 119/125\n",
      "896/897 [============================>.] - ETA: 0s - loss: 0.5520 - accuracy: 0.7972\n",
      "Epoch 119: val_loss did not improve from 0.93859\n",
      "897/897 [==============================] - 20s 22ms/step - loss: 0.5519 - accuracy: 0.7972 - val_loss: 1.0062 - val_accuracy: 0.6861 - lr: 5.1200e-10\n",
      "Epoch 120/125\n",
      "897/897 [==============================] - ETA: 0s - loss: 0.5454 - accuracy: 0.7996\n",
      "Epoch 120: val_loss did not improve from 0.93859\n",
      "897/897 [==============================] - 20s 22ms/step - loss: 0.5454 - accuracy: 0.7996 - val_loss: 1.0087 - val_accuracy: 0.6847 - lr: 5.1200e-10\n",
      "Epoch 121/125\n",
      "896/897 [============================>.] - ETA: 0s - loss: 0.5432 - accuracy: 0.8007\n",
      "Epoch 121: val_loss did not improve from 0.93859\n",
      "897/897 [==============================] - 20s 22ms/step - loss: 0.5433 - accuracy: 0.8006 - val_loss: 1.0080 - val_accuracy: 0.6848 - lr: 5.1200e-10\n",
      "Epoch 122/125\n",
      "896/897 [============================>.] - ETA: 0s - loss: 0.5471 - accuracy: 0.7986\n",
      "Epoch 122: val_loss did not improve from 0.93859\n",
      "897/897 [==============================] - 19s 22ms/step - loss: 0.5471 - accuracy: 0.7986 - val_loss: 1.0062 - val_accuracy: 0.6865 - lr: 5.1200e-10\n",
      "Epoch 123/125\n",
      "895/897 [============================>.] - ETA: 0s - loss: 0.5484 - accuracy: 0.7977\n",
      "Epoch 123: val_loss did not improve from 0.93859\n",
      "\n",
      "Epoch 123: ReduceLROnPlateau reducing learning rate to 1.0240001069306004e-10.\n",
      "897/897 [==============================] - 19s 22ms/step - loss: 0.5486 - accuracy: 0.7975 - val_loss: 1.0042 - val_accuracy: 0.6853 - lr: 5.1200e-10\n",
      "Epoch 124/125\n",
      "895/897 [============================>.] - ETA: 0s - loss: 0.5522 - accuracy: 0.7975\n",
      "Epoch 124: val_loss did not improve from 0.93859\n",
      "897/897 [==============================] - 20s 22ms/step - loss: 0.5520 - accuracy: 0.7975 - val_loss: 1.0037 - val_accuracy: 0.6860 - lr: 1.0240e-10\n",
      "Epoch 125/125\n",
      "895/897 [============================>.] - ETA: 0s - loss: 0.5482 - accuracy: 0.7979\n",
      "Epoch 125: val_loss did not improve from 0.93859\n",
      "897/897 [==============================] - 19s 22ms/step - loss: 0.5487 - accuracy: 0.7978 - val_loss: 1.0064 - val_accuracy: 0.6850 - lr: 1.0240e-10\n"
     ]
    }
   ],
   "source": [
    "sp_epoch = 897\n",
    "val_steps = 224\n",
    "\n",
    "hist = DemoDay.fit(x=training_set,\n",
    "                  validation_data=validation_set,\n",
    "                  epochs=125,\n",
    "                  batch_size=32,\n",
    "                  verbose=1,\n",
    "                  steps_per_epoch=sp_epoch,\n",
    "                  validation_steps=val_steps,\n",
    "                  shuffle=True,\n",
    "                  callbacks=callbacks)"
   ]
  },
  {
   "cell_type": "code",
   "execution_count": 27,
   "metadata": {},
   "outputs": [
    {
     "data": {
      "text/plain": [
       "<matplotlib.legend.Legend at 0x7fb15c609910>"
      ]
     },
     "execution_count": 27,
     "metadata": {},
     "output_type": "execute_result"
    },
    {
     "data": {
      "image/png": "[encoded data removed]",
      "text/plain": [
       "<Figure size 432x288 with 1 Axes>"
      ]
     },
     "metadata": {
      "needs_background": "light"
     },
     "output_type": "display_data"
    }
   ],
   "source": [
    "\n",
    "import matplotlib.pyplot as plt\n",
    "%matplotlib inline\n",
    "\n",
    "plt.plot(hist.history['loss'])\n",
    "plt.plot(hist.history['val_loss'])\n",
    "plt.title('model loss')\n",
    "plt.ylabel('loss')\n",
    "plt.xlabel('epoch')\n",
    "plt.legend(['train', 'test'], loc='upper right')"
   ]
  },
  {
   "cell_type": "code",
   "execution_count": 28,
   "metadata": {},
   "outputs": [
    {
     "data": {
      "text/plain": [
       "<matplotlib.legend.Legend at 0x7fb15c5d73d0>"
      ]
     },
     "execution_count": 28,
     "metadata": {},
     "output_type": "execute_result"
    },
    {
     "data": {
      "image/png": "[encoded data removed]",
      "text/plain": [
       "<Figure size 432x288 with 1 Axes>"
      ]
     },
     "metadata": {
      "needs_background": "light"
     },
     "output_type": "display_data"
    }
   ],
   "source": [
    "plt.plot(hist.history['accuracy'])\n",
    "plt.plot(hist.history['val_accuracy'])\n",
    "plt.title('model accuracy')\n",
    "plt.ylabel('accuracy')\n",
    "plt.xlabel('epoch')\n",
    "plt.legend(['train', 'test'], loc='upper right')"
   ]
  },
  {
   "cell_type": "code",
   "execution_count": 29,
   "metadata": {},
   "outputs": [
    {
     "name": "stdout",
     "output_type": "stream",
     "text": [
      "898/898 [==============================] - 17s 19ms/step - loss: 0.3688 - accuracy: 0.8711\n",
      "225/225 [==============================] - 3s 12ms/step - loss: 1.0066 - accuracy: 0.6851\n",
      "final train accuracy = 87.11 , validation accuracy = 68.51\n"
     ]
    }
   ],
   "source": [
    "train_loss, train_accu = DemoDay.evaluate(training_set)\n",
    "validaton_loss, validation_accu = DemoDay.evaluate(validation_set)\n",
    "print(\"final train accuracy = {:.2f} , validation accuracy = {:.2f}\".format(train_accu*100, validation_accu*100))"
   ]
  },
  {
   "cell_type": "code",
   "execution_count": 30,
   "metadata": {},
   "outputs": [],
   "source": [
    "DemoDay.save_weights('FACE_4_bestweight.h5')"
   ]
  },
  {
   "cell_type": "code",
   "execution_count": null,
   "metadata": {},
   "outputs": [],
   "source": []
  }
 ],
 "metadata": {
  "accelerator": "GPU",
  "colab": {
   "collapsed_sections": [],
   "name": "RobotNavigation_Muhammad Arief",
   "provenance": [],
   "toc_visible": true
  },
  "kernelspec": {
   "display_name": "Python 3",
   "language": "python",
   "name": "python3"
  },
  "language_info": {
   "codemirror_mode": {
    "name": "ipython",
    "version": 3
   },
   "file_extension": ".py",
   "mimetype": "text/x-python",
   "name": "python",
   "nbconvert_exporter": "python",
   "pygments_lexer": "ipython3",
   "version": "3.8.5"
  },
  "toc": {
   "base_numbering": 1,
   "nav_menu": {},
   "number_sections": true,
   "sideBar": true,
   "skip_h1_title": false,
   "title_cell": "Table of Contents",
   "title_sidebar": "Contents",
   "toc_cell": true,
   "toc_position": {
    "height": "calc(100% - 180px)",
    "left": "10px",
    "top": "150px",
    "width": "355.188px"
   },
   "toc_section_display": true,
   "toc_window_display": true
  },
  "toc-autonumbering": false
 },
 "nbformat": 4,
 "nbformat_minor": 1
}
